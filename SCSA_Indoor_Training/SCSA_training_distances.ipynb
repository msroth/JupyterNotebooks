{
 "cells": [
  {
   "cell_type": "markdown",
   "metadata": {},
   "source": [
    "# Steel Challenge Shooting Association (SCSA)\n",
    "## Scaled Distances for Indoor Dry Fire Training\n",
    "\n",
    "This notebook creates an HTML table (inline and as an external file) that scales the eight standard Steel Challenge stages to a fixed distance you specify.  The intent is to render each target in the proper percieved size for dry fire training at reasonable distances (e.g., 10 feet).  \n",
    "\n",
    "For example, in the 'Five to Go' stage, target T1 (10\" plate) is placed 30' from the baseline and 10'3\" to the left of the center line.  Target T4 (10\" plate) is placed 54' from the baseline and 10'3\" to the right of the center line. At a training distance of 10', T1 appears as a 3.3\" plate 3.4' left of the center line, and T4 as a 1.9\" plate 1.9' right of the center line.    \n",
    "For dry fire training, create paper targets of the prescribed sizes and afix them to a wall according to the stage diagrams.\n",
    "\n",
    "**Notes:**\n",
    "- Each stage contains tips for shooting order.\n",
    "- Targets with a \"*\" indicate the stop target\n",
    "- Sizes and distances are appoximate (but very close).  I used a very geometric method and a brute force method to calculate the size ratios and found them to be very close.  Brute force was easier to implement than the geometric method so I went with that.\n",
    "- In the HTML file, clicking the image will enlarge it\n",
    "\n",
    "**Links**\n",
    "- SCSA website - http://www.scsa.org\n",
    "- Stage diagrams and tips - https://teammatchtracker.com/steel-challenge-stages\n",
    "\n"
   ]
  },
  {
   "cell_type": "markdown",
   "metadata": {},
   "source": [
    "**Import required Python modules**"
   ]
  },
  {
   "cell_type": "code",
   "execution_count": null,
   "metadata": {},
   "outputs": [],
   "source": [
    "from IPython.core.display import display, HTML\n",
    "import csv"
   ]
  },
  {
   "cell_type": "markdown",
   "metadata": {},
   "source": [
    "**Read CSV files of data and load into disctionary data structures**"
   ]
  },
  {
   "cell_type": "code",
   "execution_count": null,
   "metadata": {},
   "outputs": [],
   "source": [
    "# setup targets and stages as dictionaries for easy lookup\n",
    "targets = {}\n",
    "stages = {}\n",
    "tips = {}\n",
    "target_file = 'SCSA_Targets.csv'\n",
    "stages_file = 'SCSA_Stages.csv'\n",
    "tip_file = 'SCSA_Tips.csv'\n",
    "\n",
    "# Load SCSA_Targets.csv file describing targets\n",
    "# Target_Type,Diameter,Height,Width\n",
    "# A,          0,       24,    18\n",
    "# B,          12,      0,     0\n",
    "# C,          10,      0,     0\n",
    "#\n",
    "# targets = \n",
    "# {'A': {'diameter': '0', \n",
    "#        'size': ['24', '18']}, \n",
    "#  'B': {'diameter': '12',\n",
    "#        'size': ['0', '0']}, \n",
    "#  'C': {'diameter': '10', \n",
    "#        'size': ['0', '0']}}\n",
    "\n",
    "print('Reading {} file...'.format(target_file))\n",
    "with open(target_file) as csv_file:\n",
    "    csv_reader = csv.reader(csv_file, delimiter=',')\n",
    "    for row in csv_reader:\n",
    "        if len(row) > 1 and not row[0].startswith('#'):\n",
    "            targets[row[0]] = {'diameter' : row[1], 'size' : [row[2], row[3]] }\n",
    "            # print(row[0], \"-->\", targets[row[0]])\n",
    "csv_file.close()\n",
    "\n",
    "# Load SCSA_Stages.csv file describing standard stages\n",
    "# Stage_Name,           Target_Num,Target_Type,Distance,Offset,Stop\n",
    "# Smoke & Hope (SC-103),T1,        A,          21,      -14,   False\n",
    "# Smoke & Hope (SC-103),T2,        A,          27,      -9,    False\n",
    "# Smoke & Hope (SC-103),T3,        B,          15,      0,     True\n",
    "# Smoke & Hope (SC-103),T4,        A,          27,      9,     False\n",
    "# Smoke & Hope (SC-103),T5,        A,          21,      14,    False                                                                                \n",
    "#\n",
    "# stages = \n",
    "# {'Smoke & Hope (SC-103)': \n",
    "#     {'T1': \n",
    "#         {'target_type': 'A', \n",
    "#          'distance': '21', \n",
    "#          'offset': '-14', \n",
    "#          'stop': 'False', \n",
    "#          'training_target_size': [0, 0, 0], \n",
    "#          'training_offset': 0}, \n",
    "#      'T2': \n",
    "#         {'target_type': 'A', \n",
    "#          'distance': '27', \n",
    "#          'offset': '-9', \n",
    "#          'stop': 'False', \n",
    "#          'training_target_size': [0, 0, 0], \n",
    "#          'training_offset': 0}, \n",
    "# etc.\n",
    "\n",
    "print('Reading {} file...'.format(stages_file))\n",
    "with open(stages_file) as csv_file:\n",
    "    csv_reader = csv.reader(csv_file, delimiter=',')\n",
    "    for row in csv_reader:\n",
    "        if len(row) > 1 and not row[0].startswith('#'):\n",
    "            if row[0] in stages:\n",
    "                # update sub dict\n",
    "                # print('update ',row[0])\n",
    "                stages[row[0]].update({row[1]: {'target_type': row[2], 'distance': row[3], 'offset': row[4], 'stop': row[5],\n",
    "                                       'training_target_size': [0, 0, 0], 'training_offset': 0 }})\n",
    "            else:\n",
    "                # print('new ', row[0])\n",
    "                stages[row[0]] = {row[1]: {'target_type': row[2], 'distance': row[3], 'offset': row[4], 'stop': row[5],\n",
    "                                       'training_target_size': [0, 0, 0], 'training_offset': 0 }}\n",
    "            # print(row[0], \"-->\", stages[row[0]])\n",
    "csv_file.close()\n",
    "\n",
    "# Load SCSA_Tips.csv file\n",
    "# Stage_Name,Tip\n",
    "# SC-101,1-2-3-4-5\n",
    "# SC-102,RBox:1-2-4-5-3 LBox:5-4-1-2-3\n",
    "# SC-103,RH:1-2-4-5-3 LH:5-4-2-1-3\n",
    "# SC-104,1-2-4-5-3\n",
    "# SC-105,1-2-5-4-3\n",
    "# SC-106,LR:1-2-4-5-3 RL:5-4-2-1-3\n",
    "# SC-107,5-4-3-2-1\n",
    "# SC-108,1-2-5-4-3                                                                                \n",
    "#\n",
    "# tips = \n",
    "# {'SC-101': \n",
    "#     {'tip': '1-2-3-4-5' },\n",
    "# {'SC-102': \n",
    "#     {'tip': 'RBox:1-2-4-5-3 LBox:5-4-1-2-3' }\n",
    "# etc.\n",
    "\n",
    "print('Reading {} file...'.format(tip_file))\n",
    "with open(tip_file) as csv_file:\n",
    "    csv_reader = csv.reader(csv_file, delimiter=',')\n",
    "    for row in csv_reader:\n",
    "        if len(row) > 1 and not row[0].startswith('#'):\n",
    "            tips[row[0]] = {'tip' : row[1]}\n",
    "            # print(row[0], \"-->\", tips[row[0]])\n",
    "csv_file.close()"
   ]
  },
  {
   "cell_type": "markdown",
   "metadata": {},
   "source": [
    "**Enter your desired training distance (in feet)**"
   ]
  },
  {
   "cell_type": "code",
   "execution_count": null,
   "metadata": {},
   "outputs": [],
   "source": [
    "# Enter training distance (feet)\n",
    "training_distance = 10"
   ]
  },
  {
   "cell_type": "markdown",
   "metadata": {},
   "source": [
    "**Calculate target sizes and offsets.  Data saved in dictionary data structures.**"
   ]
  },
  {
   "cell_type": "code",
   "execution_count": null,
   "metadata": {},
   "outputs": [],
   "source": [
    "# Calculate new target sizes and offsets\n",
    "print('Calculating training target sizes at {} feet...'.format(training_distance))\n",
    "\n",
    "for stage in stages.keys():\n",
    "    # print('stage: ', stage)\n",
    "    for target in stages[stage].keys():\n",
    "        # print(' target: ', target)\n",
    "        target_type = stages[stage][target]['target_type']\n",
    "        # print('  type:', target_type)\n",
    "        distance = float(stages[stage][target]['distance'])\n",
    "        # print('  distance:', distance)\n",
    "        offset = float(stages[stage][target]['offset'])\n",
    "        # print('  offset:', offset)\n",
    "        stop = stages[stage][target]['stop']\n",
    "        # print('  stop:', stop)\n",
    "        \n",
    "        # calculate percieved target sizes at training distance and update data structures\n",
    "        if target_type == 'A':\n",
    "            height = int(targets['A']['size'][0])\n",
    "            width = int(targets['A']['size'][1])\n",
    "            stages[stage][target]['training_target_size'] = [0, (((height/12)*training_distance)/distance)*12, \n",
    "                                                             (((width/12)*training_distance)/distance)*12]\n",
    "        else:\n",
    "            diameter = int(targets[target_type]['diameter'])\n",
    "            stages[stage][target]['training_target_size'] = [(((diameter/12)*training_distance)/distance)*12, 0, 0] \n",
    "            \n",
    "        training_target_size = stages[stage][target]['training_target_size']\n",
    "        # print('  training_target_size:', training_target_size)\n",
    "        \n",
    "        stages[stage][target]['training_offset'] = (((offset/12)*training_distance)/distance)*12\n",
    "        training_offset = stages[stage][target]['training_offset']\n",
    "        # print('  training_offset:', training_offset)\n",
    "    "
   ]
  },
  {
   "cell_type": "markdown",
   "metadata": {},
   "source": [
    "**Generate HTML output.**"
   ]
  },
  {
   "cell_type": "code",
   "execution_count": null,
   "metadata": {},
   "outputs": [],
   "source": [
    "# Output data as inline HTML and write to file\n",
    "output = \"<table border=1><tr><th rowspan=2>Stage</th><th rowspan=2>Target</th><th colspan=3>Target Size<br/>(inches)</th>\"\n",
    "output += \"<th rowspan=2>Offset<br/>(feet)</th><th rowspan=2>Training<br/>Distance<br/>(feet)</th><th rowspan=2>Stage Diagram</th></tr>\"\n",
    "output += \"<tr><th>Diameter</th><th>Height</th><th>Width</th></tr>\"\n",
    "\n",
    "# for each stage...\n",
    "for stage in stages.keys():\n",
    "    \n",
    "    # extract image file name from stage\n",
    "    stage_id = stage[stage.find(\"(\")+1:stage.find(\")\")]\n",
    "    img_file = 'images/' + stage_id + '.webp'\n",
    "    # print('image: ', img_file)\n",
    "    \n",
    "    # tip and diagram\n",
    "    tip = tips[stage_id]['tip']\n",
    "    output += \"<tr><td>\" + stage + \"</td><td colspan=6>Tip: \" + tip\n",
    "    output += \"</td><td rowspan=6><a href=\" + img_file + \" target=_BLANK><img src=\"\n",
    "    output += img_file + \" height=100></a></td></tr>\"\n",
    "    \n",
    "    # target\n",
    "    for target in stages[stage].keys():\n",
    "        stop = stages[stage][target]['stop']\n",
    "        output += \"<tr><td></td><td align=center>\" + target\n",
    "        if stop.upper() == 'TRUE':\n",
    "            output +=\"*\"\n",
    "        output += \"</td>\"\n",
    "\n",
    "        target_type = stages[stage][target]['target_type']\n",
    "        training_target_size = stages[stage][target]['training_target_size']\n",
    "        if target_type.upper() == 'A':\n",
    "             output += \"<th></td><td>{:.1f}</td><td>{:.1f}</td>\".format(training_target_size[1], training_target_size[2])\n",
    "        else:         \n",
    "            output += \"<td>{:.1f}</td><td></td><td></td>\".format(training_target_size[0])\n",
    "            \n",
    "        training_offset = float(stages[stage][target]['training_offset'])\n",
    "        output += \"<td>{:.1f}</td>\".format(training_offset)\n",
    "        \n",
    "        # training distance\n",
    "        output += \"<td align=center>\" + str(training_distance) + \"</td></tr>\"\n",
    "        \n",
    "output += \"</table>\"\n",
    "\n",
    "f = open('SCSA_training_distance-{}.html'.format(training_distance), 'w')\n",
    "f.write('<html>{}</html>'.format(output))\n",
    "f.close()\n",
    "\n",
    "print('Wrote output to SCSA_training_distance-{}.html'.format(training_distance))\n",
    "print('Run next cell to see results rendered inline.')"
   ]
  },
  {
   "cell_type": "markdown",
   "metadata": {},
   "source": [
    "**Display HTML output inline.  The table does not render as nicely as it will in your browser.**"
   ]
  },
  {
   "cell_type": "code",
   "execution_count": null,
   "metadata": {},
   "outputs": [],
   "source": [
    "# Display results\n",
    "display(HTML(output));"
   ]
  },
  {
   "cell_type": "markdown",
   "metadata": {},
   "source": [
    "**The End.  I hope this is helpful.**"
   ]
  }
 ],
 "metadata": {
  "kernelspec": {
   "display_name": "Python 3",
   "language": "python",
   "name": "python3"
  },
  "language_info": {
   "codemirror_mode": {
    "name": "ipython",
    "version": 3
   },
   "file_extension": ".py",
   "mimetype": "text/x-python",
   "name": "python",
   "nbconvert_exporter": "python",
   "pygments_lexer": "ipython3",
   "version": "3.7.3"
  }
 },
 "nbformat": 4,
 "nbformat_minor": 2
}
