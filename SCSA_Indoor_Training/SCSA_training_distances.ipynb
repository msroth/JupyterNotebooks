{
 "cells": [
  {
   "cell_type": "markdown",
   "metadata": {},
   "source": [
    "# Steel Challenge Shooting Association (SCSA)\n",
    "## Scaled Distances for Indoor Dry Fire Training\n",
    "\n",
    "This notebook creates an HTML table (inline and as an external file) that scales the eight standard Steel Challenge stages to a fixed distance you specify.  The intent is to render each target in the proper percieved size for dry fire training at reasonable distances (e.g., 10 feet).  \n",
    "\n",
    "For example, in the 'Five to Go' stage, target T1 (10\" plate) is placed 30' from the baseline and 10'3\" to the left of the center line.  Target T4 (10\" plate) is placed 54' from the baseline and 10'3\" to the right of the center line. At a training distance of 10', T1 appears as a 3.3\" plate 3.4' left of the center line, and T4 as a 1.9\" plate 1.9' right of the center line.    \n",
    "For dry fire training, create paper targets of the prescribed sizes and afix them to a wall according to the stage diagrams.\n",
    "\n",
    "**Notes:**\n",
    "- Each stage contains tips for shooting order.\n",
    "- Targets with a \"*\" indicate the stop target\n",
    "- Sizes and distances are appoximate (but very close).  I used a very geometric method and a brute force method to calculate the size ratios and found them to be very close.  Brute force was easier to implement than the geometric method so I went with that.\n",
    "- In the distance HTML file, clicking the image will enlarge it\n",
    "- Each target is saved as an SVG image to a separate file for printing\n",
    "\n",
    "**Links**\n",
    "- SCSA website - http://www.scsa.org\n",
    "- Stage diagrams and tips - https://teammatchtracker.com/steel-challenge-stages\n",
    "\n"
   ]
  },
  {
   "cell_type": "markdown",
   "metadata": {},
   "source": [
    "**Import required Python modules**"
   ]
  },
  {
   "cell_type": "code",
   "execution_count": 17,
   "metadata": {},
   "outputs": [],
   "source": [
    "from IPython.core.display import display, HTML\n",
    "import csv\n",
    "import os"
   ]
  },
  {
   "cell_type": "markdown",
   "metadata": {},
   "source": [
    "**Read CSV files of data and load into disctionary data structures**"
   ]
  },
  {
   "cell_type": "code",
   "execution_count": 2,
   "metadata": {},
   "outputs": [
    {
     "name": "stdout",
     "output_type": "stream",
     "text": [
      "Reading SCSA_Targets.csv file...\n",
      "Reading SCSA_Stages.csv file...\n",
      "Reading SCSA_Tips.csv file...\n"
     ]
    }
   ],
   "source": [
    "# setup targets and stages as dictionaries for easy lookup\n",
    "targets = {}\n",
    "stages = {}\n",
    "tips = {}\n",
    "target_file = 'SCSA_Targets.csv'\n",
    "stages_file = 'SCSA_Stages.csv'\n",
    "tip_file = 'SCSA_Tips.csv'\n",
    "\n",
    "# Load SCSA_Targets.csv file describing targets\n",
    "# Target_Type,Diameter,Height,Width\n",
    "# A,          0,       24,    18\n",
    "# B,          12,      0,     0\n",
    "# C,          10,      0,     0\n",
    "#\n",
    "# targets = \n",
    "# {'A': {'diameter': '0', \n",
    "#        'size': ['24', '18']}, \n",
    "#  'B': {'diameter': '12',\n",
    "#        'size': ['0', '0']}, \n",
    "#  'C': {'diameter': '10', \n",
    "#        'size': ['0', '0']}}\n",
    "\n",
    "print('Reading {} file...'.format(target_file))\n",
    "with open(target_file) as csv_file:\n",
    "    csv_reader = csv.reader(csv_file, delimiter=',')\n",
    "    for row in csv_reader:\n",
    "        if len(row) > 1 and not row[0].startswith('#'):\n",
    "            targets[row[0]] = {'diameter' : row[1], 'size' : [row[2], row[3]] }\n",
    "            # print(row[0], \"-->\", targets[row[0]])\n",
    "csv_file.close()\n",
    "\n",
    "# Load SCSA_Stages.csv file describing standard stages\n",
    "# Stage_Name,           Target_Num,Target_Type,Distance,Offset,Stop\n",
    "# Smoke & Hope (SC-103),T1,        A,          21,      -14,   False\n",
    "# Smoke & Hope (SC-103),T2,        A,          27,      -9,    False\n",
    "# Smoke & Hope (SC-103),T3,        B,          15,      0,     True\n",
    "# Smoke & Hope (SC-103),T4,        A,          27,      9,     False\n",
    "# Smoke & Hope (SC-103),T5,        A,          21,      14,    False                                                                                \n",
    "#\n",
    "# stages = \n",
    "# {'Smoke & Hope (SC-103)': \n",
    "#     {'T1': \n",
    "#         {'target_type': 'A', \n",
    "#          'distance': '21', \n",
    "#          'offset': '-14', \n",
    "#          'stop': 'False', \n",
    "#          'training_target_size': [0, 0, 0], \n",
    "#          'training_offset': 0}, \n",
    "#      'T2': \n",
    "#         {'target_type': 'A', \n",
    "#          'distance': '27', \n",
    "#          'offset': '-9', \n",
    "#          'stop': 'False', \n",
    "#          'training_target_size': [0, 0, 0], \n",
    "#          'training_offset': 0}, \n",
    "# etc.\n",
    "\n",
    "print('Reading {} file...'.format(stages_file))\n",
    "with open(stages_file) as csv_file:\n",
    "    csv_reader = csv.reader(csv_file, delimiter=',')\n",
    "    for row in csv_reader:\n",
    "        if len(row) > 1 and not row[0].startswith('#'):\n",
    "            if row[0] in stages:\n",
    "                # update sub dict\n",
    "                # print('update ',row[0])\n",
    "                stages[row[0]].update({row[1]: {'target_type': row[2], 'distance': row[3], 'offset': row[4], 'stop': row[5],\n",
    "                                       'training_target_size': [0, 0, 0], 'training_offset': 0 }})\n",
    "            else:\n",
    "                # print('new ', row[0])\n",
    "                stages[row[0]] = {row[1]: {'target_type': row[2], 'distance': row[3], 'offset': row[4], 'stop': row[5],\n",
    "                                       'training_target_size': [0, 0, 0], 'training_offset': 0 }}\n",
    "            # print(row[0], \"-->\", stages[row[0]])\n",
    "csv_file.close()\n",
    "\n",
    "# Load SCSA_Tips.csv file\n",
    "# Stage_Name,Tip\n",
    "# SC-101,1-2-3-4-5\n",
    "# SC-102,RBox:1-2-4-5-3 LBox:5-4-1-2-3\n",
    "# SC-103,RH:1-2-4-5-3 LH:5-4-2-1-3\n",
    "# SC-104,1-2-4-5-3\n",
    "# SC-105,1-2-5-4-3\n",
    "# SC-106,LR:1-2-4-5-3 RL:5-4-2-1-3\n",
    "# SC-107,5-4-3-2-1\n",
    "# SC-108,1-2-5-4-3                                                                                \n",
    "#\n",
    "# tips = \n",
    "# {'SC-101': \n",
    "#     {'tip': '1-2-3-4-5' },\n",
    "# {'SC-102': \n",
    "#     {'tip': 'RBox:1-2-4-5-3 LBox:5-4-1-2-3' }\n",
    "# etc.\n",
    "\n",
    "print('Reading {} file...'.format(tip_file))\n",
    "with open(tip_file) as csv_file:\n",
    "    csv_reader = csv.reader(csv_file, delimiter=',')\n",
    "    for row in csv_reader:\n",
    "        if len(row) > 1 and not row[0].startswith('#'):\n",
    "            tips[row[0]] = {'tip' : row[1]}\n",
    "            # print(row[0], \"-->\", tips[row[0]])\n",
    "csv_file.close()"
   ]
  },
  {
   "cell_type": "markdown",
   "metadata": {},
   "source": [
    "**Enter your desired training distance (in feet)**"
   ]
  },
  {
   "cell_type": "code",
   "execution_count": 3,
   "metadata": {},
   "outputs": [],
   "source": [
    "# Enter training distance (feet)\n",
    "training_distance = 10"
   ]
  },
  {
   "cell_type": "markdown",
   "metadata": {},
   "source": [
    "**Calculate target sizes and offsets.  Data saved in dictionary data structures.**"
   ]
  },
  {
   "cell_type": "code",
   "execution_count": 4,
   "metadata": {},
   "outputs": [
    {
     "name": "stdout",
     "output_type": "stream",
     "text": [
      "Calculating training target sizes at 10 feet...\n"
     ]
    }
   ],
   "source": [
    "# Calculate new target sizes and offsets\n",
    "print('Calculating training target sizes at {} feet...'.format(training_distance))\n",
    "\n",
    "for stage in stages.keys():\n",
    "    # print('stage: ', stage)\n",
    "    for target in stages[stage].keys():\n",
    "        # print(' target: ', target)\n",
    "        target_type = stages[stage][target]['target_type']\n",
    "        # print('  type:', target_type)\n",
    "        distance = float(stages[stage][target]['distance'])\n",
    "        # print('  distance:', distance)\n",
    "        offset = float(stages[stage][target]['offset'])\n",
    "        # print('  offset:', offset)\n",
    "        stop = stages[stage][target]['stop']\n",
    "        # print('  stop:', stop)\n",
    "        \n",
    "        # calculate percieved target sizes at training distance and update data structures\n",
    "        if target_type == 'A':\n",
    "            height = int(targets['A']['size'][0])\n",
    "            width = int(targets['A']['size'][1])\n",
    "            stages[stage][target]['training_target_size'] = [0, (((height/12)*training_distance)/distance)*12, \n",
    "                                                             (((width/12)*training_distance)/distance)*12]\n",
    "        else:\n",
    "            diameter = int(targets[target_type]['diameter'])\n",
    "            stages[stage][target]['training_target_size'] = [(((diameter/12)*training_distance)/distance)*12, 0, 0] \n",
    "            \n",
    "        training_target_size = stages[stage][target]['training_target_size']\n",
    "        # print('  training_target_size:', training_target_size)\n",
    "        \n",
    "        stages[stage][target]['training_offset'] = (((offset/12)*training_distance)/distance)*12\n",
    "        training_offset = stages[stage][target]['training_offset']\n",
    "        # print('  training_offset:', training_offset)\n",
    "    "
   ]
  },
  {
   "cell_type": "markdown",
   "metadata": {},
   "source": [
    "**Generate HTML output.**"
   ]
  },
  {
   "cell_type": "code",
   "execution_count": 28,
   "metadata": {},
   "outputs": [
    {
     "name": "stdout",
     "output_type": "stream",
     "text": [
      "Wrote output to 10-feet/SCSA_training_distance-10.html\n"
     ]
    },
    {
     "data": {
      "text/html": [
       "<table border=1><tr><th rowspan=2>Stage</th><th rowspan=2>Target</th><th colspan=3>Target Size<br/>(inches)</th><th rowspan=2>Offset<br/>(feet)</th><th rowspan=2>Training<br/>Distance<br/>(feet)</th><th rowspan=2>Stage Diagram</th></tr><tr><th>Diameter</th><th>Height</th><th>Width</th></tr><tr><td>Five to Go (SC-101)</td><td colspan=6>Tip: 1-2-3-4-5</td><td rowspan=6><a href=images/SC-101.webp target=_BLANK><img src=images/SC-101.webp height=100></a></td></tr><tr><td></td><td align=center>T1</td><td>3.3</td><td></td><td></td><td>-3.4</td><td align=center>10</td></tr><tr><td></td><td align=center>T2</td><td>2.8</td><td></td><td></td><td>-0.9</td><td align=center>10</td></tr><tr><td></td><td align=center>T3</td><td>2.2</td><td></td><td></td><td>0.8</td><td align=center>10</td></tr><tr><td></td><td align=center>T4</td><td>1.9</td><td></td><td></td><td>1.9</td><td align=center>10</td></tr><tr><td></td><td align=center>T5*</td><td>5.7</td><td></td><td></td><td>8.1</td><td align=center>10</td></tr><tr><td>Showdown (SC-102)</td><td colspan=6>Tip: RBox:1-2-4-5-3 LBox:5-4-1-2-3</td><td rowspan=6><a href=images/SC-102.webp target=_BLANK><img src=images/SC-102.webp height=100></a></td></tr><tr><td></td><td align=center>T1</td><th></td><td>3.2</td><td>2.4</td><td>-1.2</td><td align=center>10</td></tr><tr><td></td><td align=center>T2</td><td>3.3</td><td></td><td></td><td>-1.3</td><td align=center>10</td></tr><tr><td></td><td align=center>T3*</td><td>3.3</td><td></td><td></td><td>0.0</td><td align=center>10</td></tr><tr><td></td><td align=center>T4</td><th></td><td>3.2</td><td>2.4</td><td>1.2</td><td align=center>10</td></tr><tr><td></td><td align=center>T5</td><td>3.3</td><td></td><td></td><td>1.3</td><td align=center>10</td></tr><tr><td>Smoke & Hope (SC-103)</td><td colspan=6>Tip: RH:1-2-4-5-3 LH:5-4-2-1-3</td><td rowspan=6><a href=images/SC-103.webp target=_BLANK><img src=images/SC-103.webp height=100></a></td></tr><tr><td></td><td align=center>T1</td><th></td><td>11.4</td><td>8.6</td><td>-6.7</td><td align=center>10</td></tr><tr><td></td><td align=center>T2</td><th></td><td>8.9</td><td>6.7</td><td>-3.3</td><td align=center>10</td></tr><tr><td></td><td align=center>T3*</td><td>2.9</td><td></td><td></td><td>0.0</td><td align=center>10</td></tr><tr><td></td><td align=center>T4</td><th></td><td>8.9</td><td>6.7</td><td>3.3</td><td align=center>10</td></tr><tr><td></td><td align=center>T5</td><th></td><td>11.4</td><td>8.6</td><td>6.7</td><td align=center>10</td></tr><tr><td>Outer Limits (SC-104)</td><td colspan=6>Tip: 1-2-4-5-3</td><td rowspan=6><a href=images/SC-104.webp target=_BLANK><img src=images/SC-104.webp height=100></a></td></tr><tr><td></td><td align=center>T1</td><td>2.0</td><td></td><td></td><td>-2.0</td><td align=center>10</td></tr><tr><td></td><td align=center>T2</td><th></td><td>2.3</td><td>1.7</td><td>-0.6</td><td align=center>10</td></tr><tr><td></td><td align=center>T3*</td><td>2.2</td><td></td><td></td><td>0.0</td><td align=center>10</td></tr><tr><td></td><td align=center>T4</td><th></td><td>2.3</td><td>1.7</td><td>0.6</td><td align=center>10</td></tr><tr><td></td><td align=center>T5</td><td>2.0</td><td></td><td></td><td>2.0</td><td align=center>10</td></tr><tr><td>Accelerator (SC-105)</td><td colspan=6>Tip: 1-2-5-4-3</td><td rowspan=6><a href=images/SC-105.webp target=_BLANK><img src=images/SC-105.webp height=100></a></td></tr><tr><td></td><td align=center>T1</td><td>3.3</td><td></td><td></td><td>-4.0</td><td align=center>10</td></tr><tr><td></td><td align=center>T2</td><th></td><td>8.0</td><td>6.0</td><td>-1.3</td><td align=center>10</td></tr><tr><td></td><td align=center>T3*</td><td>2.7</td><td></td><td></td><td>0.0</td><td align=center>10</td></tr><tr><td></td><td align=center>T4</td><td>2.0</td><td></td><td></td><td>1.0</td><td align=center>10</td></tr><tr><td></td><td align=center>T5</td><th></td><td>4.0</td><td>3.0</td><td>3.3</td><td align=center>10</td></tr><tr><td>Pendulum (SC-106)</td><td colspan=6>Tip: LR:1-2-4-5-3 RL:5-4-2-1-3</td><td rowspan=6><a href=images/SC-106.webp target=_BLANK><img src=images/SC-106.webp height=100></a></td></tr><tr><td></td><td align=center>T1</td><td>2.2</td><td></td><td></td><td>-2.2</td><td align=center>10</td></tr><tr><td></td><td align=center>T2</td><td>1.9</td><td></td><td></td><td>-1.1</td><td align=center>10</td></tr><tr><td></td><td align=center>T3*</td><td>4.0</td><td></td><td></td><td>0.0</td><td align=center>10</td></tr><tr><td></td><td align=center>T4</td><td>1.9</td><td></td><td></td><td>1.1</td><td align=center>10</td></tr><tr><td></td><td align=center>T5</td><td>2.2</td><td></td><td></td><td>2.2</td><td align=center>10</td></tr><tr><td>Speed Option (SC-107)</td><td colspan=6>Tip: 5-4-3-2-1</td><td rowspan=6><a href=images/SC-107.webp target=_BLANK><img src=images/SC-107.webp height=100></a></td></tr><tr><td></td><td align=center>T1</td><th></td><td>2.3</td><td>1.7</td><td>-2.0</td><td align=center>10</td></tr><tr><td></td><td align=center>T2</td><td>4.0</td><td></td><td></td><td>-4.0</td><td align=center>10</td></tr><tr><td></td><td align=center>T3</td><td>2.0</td><td></td><td></td><td>-1.0</td><td align=center>10</td></tr><tr><td></td><td align=center>T4</td><td>5.0</td><td></td><td></td><td>2.7</td><td align=center>10</td></tr><tr><td></td><td align=center>T5*</td><td>2.7</td><td></td><td></td><td>4.7</td><td align=center>10</td></tr><tr><td>Roundabout (SC-108)</td><td colspan=6>Tip: 1-2-5-4-3</td><td rowspan=6><a href=images/SC-108.webp target=_BLANK><img src=images/SC-108.webp height=100></a></td></tr><tr><td></td><td align=center>T1</td><td>2.7</td><td></td><td></td><td>-2.0</td><td align=center>10</td></tr><tr><td></td><td align=center>T2</td><td>5.7</td><td></td><td></td><td>-1.0</td><td align=center>10</td></tr><tr><td></td><td align=center>T3*</td><td>4.0</td><td></td><td></td><td>0.7</td><td align=center>10</td></tr><tr><td></td><td align=center>T4</td><td>2.7</td><td></td><td></td><td>1.8</td><td align=center>10</td></tr><tr><td></td><td align=center>T5</td><td>5.7</td><td></td><td></td><td>3.8</td><td align=center>10</td></tr></table>"
      ],
      "text/plain": [
       "<IPython.core.display.HTML object>"
      ]
     },
     "metadata": {},
     "output_type": "display_data"
    }
   ],
   "source": [
    "# Output data as inline HTML and write to file\n",
    "output = \"<table border=1><tr><th rowspan=2>Stage</th><th rowspan=2>Target</th><th colspan=3>Target Size<br/>(inches)</th>\"\n",
    "output += \"<th rowspan=2>Offset<br/>(feet)</th><th rowspan=2>Training<br/>Distance<br/>(feet)</th><th rowspan=2>Stage Diagram</th></tr>\"\n",
    "output += \"<tr><th>Diameter</th><th>Height</th><th>Width</th></tr>\"\n",
    "\n",
    "# for each stage...\n",
    "for stage in stages.keys():\n",
    "    \n",
    "    # extract image file name from stage\n",
    "    stage_id = stage[stage.find(\"(\")+1:stage.find(\")\")]\n",
    "    img_file = 'images/' + stage_id + '.webp'\n",
    "    # print('image: ', img_file)\n",
    "    \n",
    "    # tip and diagram\n",
    "    tip = tips[stage_id]['tip']\n",
    "    output += \"<tr><td>\" + stage + \"</td><td colspan=6>Tip: \" + tip\n",
    "    output += \"</td><td rowspan=6><a href=\" + img_file + \" target=_BLANK><img src=\"\n",
    "    output += img_file + \" height=100></a></td></tr>\"\n",
    "    \n",
    "    # target\n",
    "    for target in stages[stage].keys():\n",
    "        stop = stages[stage][target]['stop']\n",
    "        output += \"<tr><td></td><td align=center>\" + target\n",
    "        if stop.upper() == 'TRUE':\n",
    "            output +=\"*\"\n",
    "        output += \"</td>\"\n",
    "\n",
    "        # get target type and output diameter or height x width\n",
    "        target_type = stages[stage][target]['target_type']\n",
    "        training_target_size = stages[stage][target]['training_target_size']\n",
    "        if target_type.upper() == 'A':\n",
    "             output += \"<th></td><td>{:.1f}</td><td>{:.1f}</td>\".format(training_target_size[1], training_target_size[2])\n",
    "        else:         \n",
    "            output += \"<td>{:.1f}</td><td></td><td></td>\".format(training_target_size[0])\n",
    "            \n",
    "        # output the target offset    \n",
    "        training_offset = float(stages[stage][target]['training_offset'])\n",
    "        output += \"<td>{:.1f}</td>\".format(training_offset)\n",
    "        \n",
    "        # output training distance\n",
    "        output += \"<td align=center>\" + str(training_distance) + \"</td></tr>\"\n",
    "        \n",
    "output += \"</table>\"\n",
    "\n",
    "# once the HTML is constructed write it to a file in a folder designated by the\n",
    "# training distance\n",
    "output_dir = str(training_distance) + '-feet'\n",
    "if not os.path.exists(output_dir):\n",
    "    os.mkdir(output_dir)\n",
    "f = open('{}/SCSA_training_distance-{}.html'.format(output_dir,training_distance), 'w')\n",
    "f.write('<html>{}</html>'.format(output))\n",
    "f.close()\n",
    "\n",
    "print('Wrote output to {}/SCSA_training_distance-{}.html'.format(output_dir, training_distance))\n",
    "# Display results\n",
    "display(HTML(output));"
   ]
  },
  {
   "cell_type": "markdown",
   "metadata": {},
   "source": [
    "**Run the following cell to generate targets as SVG**"
   ]
  },
  {
   "cell_type": "code",
   "execution_count": 29,
   "metadata": {
    "scrolled": false
   },
   "outputs": [
    {
     "name": "stdout",
     "output_type": "stream",
     "text": [
      "Wrote output to 10-feet/SCSA_training_targets_SC-101_T1-10.html\n"
     ]
    },
    {
     "data": {
      "text/html": [
       "<table border=1><tr><th align=center>Five to Go (SC-101)</th></tr><tr><td align=center>T1</td></tr><tr><td align=center>diameter=3.3\"</td></tr><tr><td align=center><svg height=450.0 width=450.0><circle cx=225.0 cy=225.0 r=150.0 stroke=black stroke-width=3 fill=none /></svg></td></tr></table><p/>"
      ],
      "text/plain": [
       "<IPython.core.display.HTML object>"
      ]
     },
     "metadata": {},
     "output_type": "display_data"
    },
    {
     "name": "stdout",
     "output_type": "stream",
     "text": [
      "Wrote output to 10-feet/SCSA_training_targets_SC-101_T2-10.html\n"
     ]
    },
    {
     "data": {
      "text/html": [
       "<table border=1><tr><th align=center>Five to Go (SC-101)</th></tr><tr><td align=center>T2</td></tr><tr><td align=center>diameter=2.8\"</td></tr><tr><td align=center><svg height=375.0 width=375.0><circle cx=187.50000000000003 cy=187.5 r=125.00000000000001 stroke=black stroke-width=3 fill=none /></svg></td></tr></table><p/>"
      ],
      "text/plain": [
       "<IPython.core.display.HTML object>"
      ]
     },
     "metadata": {},
     "output_type": "display_data"
    },
    {
     "name": "stdout",
     "output_type": "stream",
     "text": [
      "Wrote output to 10-feet/SCSA_training_targets_SC-101_T3-10.html\n"
     ]
    },
    {
     "data": {
      "text/html": [
       "<table border=1><tr><th align=center>Five to Go (SC-101)</th></tr><tr><td align=center>T3</td></tr><tr><td align=center>diameter=2.2\"</td></tr><tr><td align=center><svg height=300.0 width=300.0><circle cx=150.0 cy=150.0 r=100.0 stroke=black stroke-width=3 fill=none /></svg></td></tr></table><p/>"
      ],
      "text/plain": [
       "<IPython.core.display.HTML object>"
      ]
     },
     "metadata": {},
     "output_type": "display_data"
    },
    {
     "name": "stdout",
     "output_type": "stream",
     "text": [
      "Wrote output to 10-feet/SCSA_training_targets_SC-101_T4-10.html\n"
     ]
    },
    {
     "data": {
      "text/html": [
       "<table border=1><tr><th align=center>Five to Go (SC-101)</th></tr><tr><td align=center>T4</td></tr><tr><td align=center>diameter=1.9\"</td></tr><tr><td align=center><svg height=250.00000000000003 width=250.00000000000003><circle cx=125.00000000000001 cy=125.00000000000001 r=83.33333333333334 stroke=black stroke-width=3 fill=none /></svg></td></tr></table><p/>"
      ],
      "text/plain": [
       "<IPython.core.display.HTML object>"
      ]
     },
     "metadata": {},
     "output_type": "display_data"
    },
    {
     "name": "stdout",
     "output_type": "stream",
     "text": [
      "Wrote output to 10-feet/SCSA_training_targets_SC-101_T5-10.html\n"
     ]
    },
    {
     "data": {
      "text/html": [
       "<table border=1><tr><th align=center>Five to Go (SC-101)</th></tr><tr><td align=center>T5</td></tr><tr><td align=center>diameter=5.7\"</td></tr><tr><td align=center><svg height=771.4285714285712 width=771.4285714285712><circle cx=385.71428571428567 cy=385.7142857142856 r=257.1428571428571 stroke=black stroke-width=3 fill=none /></svg></td></tr></table><p/>"
      ],
      "text/plain": [
       "<IPython.core.display.HTML object>"
      ]
     },
     "metadata": {},
     "output_type": "display_data"
    },
    {
     "name": "stdout",
     "output_type": "stream",
     "text": [
      "Wrote output to 10-feet/SCSA_training_targets_SC-102_T1-10.html\n"
     ]
    },
    {
     "data": {
      "text/html": [
       "<table border=1><tr><th align=center>Showdown (SC-102)</th></tr><tr><td align=center>T1</td></tr><tr><td align=center>height=3.2\" width=2.4\"</td></tr><tr><td align=center><svg height=432.00000000000006 width=324.00000000000006><rect x=54.00000000000001 y=72.0 width=216.00000000000003 height=288.0 stroke=black stroke-width=3 fill=none /></svg></td></tr>"
      ],
      "text/plain": [
       "<IPython.core.display.HTML object>"
      ]
     },
     "metadata": {},
     "output_type": "display_data"
    },
    {
     "name": "stdout",
     "output_type": "stream",
     "text": [
      "Wrote output to 10-feet/SCSA_training_targets_SC-102_T2-10.html\n"
     ]
    },
    {
     "data": {
      "text/html": [
       "<table border=1><tr><th align=center>Showdown (SC-102)</th></tr><tr><td align=center>T2</td></tr><tr><td align=center>diameter=3.3\"</td></tr><tr><td align=center><svg height=450.0 width=450.0><circle cx=225.0 cy=225.0 r=150.0 stroke=black stroke-width=3 fill=none /></svg></td></tr></table><p/>"
      ],
      "text/plain": [
       "<IPython.core.display.HTML object>"
      ]
     },
     "metadata": {},
     "output_type": "display_data"
    },
    {
     "name": "stdout",
     "output_type": "stream",
     "text": [
      "Wrote output to 10-feet/SCSA_training_targets_SC-102_T3-10.html\n"
     ]
    },
    {
     "data": {
      "text/html": [
       "<table border=1><tr><th align=center>Showdown (SC-102)</th></tr><tr><td align=center>T3</td></tr><tr><td align=center>diameter=3.3\"</td></tr><tr><td align=center><svg height=450.0 width=450.0><circle cx=225.0 cy=225.0 r=150.0 stroke=black stroke-width=3 fill=none /></svg></td></tr></table><p/>"
      ],
      "text/plain": [
       "<IPython.core.display.HTML object>"
      ]
     },
     "metadata": {},
     "output_type": "display_data"
    },
    {
     "name": "stdout",
     "output_type": "stream",
     "text": [
      "Wrote output to 10-feet/SCSA_training_targets_SC-102_T4-10.html\n"
     ]
    },
    {
     "data": {
      "text/html": [
       "<table border=1><tr><th align=center>Showdown (SC-102)</th></tr><tr><td align=center>T4</td></tr><tr><td align=center>height=3.2\" width=2.4\"</td></tr><tr><td align=center><svg height=432.00000000000006 width=324.00000000000006><rect x=54.00000000000001 y=72.0 width=216.00000000000003 height=288.0 stroke=black stroke-width=3 fill=none /></svg></td></tr>"
      ],
      "text/plain": [
       "<IPython.core.display.HTML object>"
      ]
     },
     "metadata": {},
     "output_type": "display_data"
    },
    {
     "name": "stdout",
     "output_type": "stream",
     "text": [
      "Wrote output to 10-feet/SCSA_training_targets_SC-102_T5-10.html\n"
     ]
    },
    {
     "data": {
      "text/html": [
       "<table border=1><tr><th align=center>Showdown (SC-102)</th></tr><tr><td align=center>T5</td></tr><tr><td align=center>diameter=3.3\"</td></tr><tr><td align=center><svg height=450.0 width=450.0><circle cx=225.0 cy=225.0 r=150.0 stroke=black stroke-width=3 fill=none /></svg></td></tr></table><p/>"
      ],
      "text/plain": [
       "<IPython.core.display.HTML object>"
      ]
     },
     "metadata": {},
     "output_type": "display_data"
    },
    {
     "name": "stdout",
     "output_type": "stream",
     "text": [
      "Wrote output to 10-feet/SCSA_training_targets_SC-103_T1-10.html\n"
     ]
    },
    {
     "data": {
      "text/html": [
       "<table border=1><tr><th align=center>Smoke & Hope (SC-103)</th></tr><tr><td align=center>T1</td></tr><tr><td align=center>height=11.4\" width=8.6\"</td></tr><tr><td align=center><svg height=1542.8571428571424 width=1157.142857142857><rect x=192.85714285714286 y=257.1428571428571 width=771.4285714285714 height=1028.5714285714284 stroke=black stroke-width=3 fill=none /></svg></td></tr>"
      ],
      "text/plain": [
       "<IPython.core.display.HTML object>"
      ]
     },
     "metadata": {},
     "output_type": "display_data"
    },
    {
     "name": "stdout",
     "output_type": "stream",
     "text": [
      "Wrote output to 10-feet/SCSA_training_targets_SC-103_T2-10.html\n"
     ]
    },
    {
     "data": {
      "text/html": [
       "<table border=1><tr><th align=center>Smoke & Hope (SC-103)</th></tr><tr><td align=center>T2</td></tr><tr><td align=center>height=8.9\" width=6.7\"</td></tr><tr><td align=center><svg height=1200.0 width=900.0><rect x=150.0 y=200.0 width=600.0 height=800.0 stroke=black stroke-width=3 fill=none /></svg></td></tr>"
      ],
      "text/plain": [
       "<IPython.core.display.HTML object>"
      ]
     },
     "metadata": {},
     "output_type": "display_data"
    },
    {
     "name": "stdout",
     "output_type": "stream",
     "text": [
      "Wrote output to 10-feet/SCSA_training_targets_SC-103_T3-10.html\n"
     ]
    },
    {
     "data": {
      "text/html": [
       "<table border=1><tr><th align=center>Smoke & Hope (SC-103)</th></tr><tr><td align=center>T3</td></tr><tr><td align=center>diameter=2.9\"</td></tr><tr><td align=center><svg height=385.7142857142856 width=385.7142857142856><circle cx=192.85714285714283 cy=192.8571428571428 r=128.57142857142856 stroke=black stroke-width=3 fill=none /></svg></td></tr></table><p/>"
      ],
      "text/plain": [
       "<IPython.core.display.HTML object>"
      ]
     },
     "metadata": {},
     "output_type": "display_data"
    },
    {
     "name": "stdout",
     "output_type": "stream",
     "text": [
      "Wrote output to 10-feet/SCSA_training_targets_SC-103_T4-10.html\n"
     ]
    },
    {
     "data": {
      "text/html": [
       "<table border=1><tr><th align=center>Smoke & Hope (SC-103)</th></tr><tr><td align=center>T4</td></tr><tr><td align=center>height=8.9\" width=6.7\"</td></tr><tr><td align=center><svg height=1200.0 width=900.0><rect x=150.0 y=200.0 width=600.0 height=800.0 stroke=black stroke-width=3 fill=none /></svg></td></tr>"
      ],
      "text/plain": [
       "<IPython.core.display.HTML object>"
      ]
     },
     "metadata": {},
     "output_type": "display_data"
    },
    {
     "name": "stdout",
     "output_type": "stream",
     "text": [
      "Wrote output to 10-feet/SCSA_training_targets_SC-103_T5-10.html\n"
     ]
    },
    {
     "data": {
      "text/html": [
       "<table border=1><tr><th align=center>Smoke & Hope (SC-103)</th></tr><tr><td align=center>T5</td></tr><tr><td align=center>height=11.4\" width=8.6\"</td></tr><tr><td align=center><svg height=1542.8571428571424 width=1157.142857142857><rect x=192.85714285714286 y=257.1428571428571 width=771.4285714285714 height=1028.5714285714284 stroke=black stroke-width=3 fill=none /></svg></td></tr>"
      ],
      "text/plain": [
       "<IPython.core.display.HTML object>"
      ]
     },
     "metadata": {},
     "output_type": "display_data"
    },
    {
     "name": "stdout",
     "output_type": "stream",
     "text": [
      "Wrote output to 10-feet/SCSA_training_targets_SC-104_T1-10.html\n"
     ]
    },
    {
     "data": {
      "text/html": [
       "<table border=1><tr><th align=center>Outer Limits (SC-104)</th></tr><tr><td align=center>T1</td></tr><tr><td align=center>diameter=2.0\"</td></tr><tr><td align=center><svg height=270.0 width=270.0><circle cx=135.0 cy=135.0 r=90.0 stroke=black stroke-width=3 fill=none /></svg></td></tr></table><p/>"
      ],
      "text/plain": [
       "<IPython.core.display.HTML object>"
      ]
     },
     "metadata": {},
     "output_type": "display_data"
    },
    {
     "name": "stdout",
     "output_type": "stream",
     "text": [
      "Wrote output to 10-feet/SCSA_training_targets_SC-104_T2-10.html\n"
     ]
    },
    {
     "data": {
      "text/html": [
       "<table border=1><tr><th align=center>Outer Limits (SC-104)</th></tr><tr><td align=center>T2</td></tr><tr><td align=center>height=2.3\" width=1.7\"</td></tr><tr><td align=center><svg height=308.57142857142856 width=231.42857142857142><rect x=38.57142857142857 y=51.42857142857142 width=154.28571428571428 height=205.7142857142857 stroke=black stroke-width=3 fill=none /></svg></td></tr>"
      ],
      "text/plain": [
       "<IPython.core.display.HTML object>"
      ]
     },
     "metadata": {},
     "output_type": "display_data"
    },
    {
     "name": "stdout",
     "output_type": "stream",
     "text": [
      "Wrote output to 10-feet/SCSA_training_targets_SC-104_T3-10.html\n"
     ]
    },
    {
     "data": {
      "text/html": [
       "<table border=1><tr><th align=center>Outer Limits (SC-104)</th></tr><tr><td align=center>T3</td></tr><tr><td align=center>diameter=2.2\"</td></tr><tr><td align=center><svg height=300.0 width=300.0><circle cx=150.0 cy=150.0 r=100.0 stroke=black stroke-width=3 fill=none /></svg></td></tr></table><p/>"
      ],
      "text/plain": [
       "<IPython.core.display.HTML object>"
      ]
     },
     "metadata": {},
     "output_type": "display_data"
    },
    {
     "name": "stdout",
     "output_type": "stream",
     "text": [
      "Wrote output to 10-feet/SCSA_training_targets_SC-104_T4-10.html\n"
     ]
    },
    {
     "data": {
      "text/html": [
       "<table border=1><tr><th align=center>Outer Limits (SC-104)</th></tr><tr><td align=center>T4</td></tr><tr><td align=center>height=2.3\" width=1.7\"</td></tr><tr><td align=center><svg height=308.57142857142856 width=231.42857142857142><rect x=38.57142857142857 y=51.42857142857142 width=154.28571428571428 height=205.7142857142857 stroke=black stroke-width=3 fill=none /></svg></td></tr>"
      ],
      "text/plain": [
       "<IPython.core.display.HTML object>"
      ]
     },
     "metadata": {},
     "output_type": "display_data"
    },
    {
     "name": "stdout",
     "output_type": "stream",
     "text": [
      "Wrote output to 10-feet/SCSA_training_targets_SC-104_T5-10.html\n"
     ]
    },
    {
     "data": {
      "text/html": [
       "<table border=1><tr><th align=center>Outer Limits (SC-104)</th></tr><tr><td align=center>T5</td></tr><tr><td align=center>diameter=2.0\"</td></tr><tr><td align=center><svg height=270.0 width=270.0><circle cx=135.0 cy=135.0 r=90.0 stroke=black stroke-width=3 fill=none /></svg></td></tr></table><p/>"
      ],
      "text/plain": [
       "<IPython.core.display.HTML object>"
      ]
     },
     "metadata": {},
     "output_type": "display_data"
    },
    {
     "name": "stdout",
     "output_type": "stream",
     "text": [
      "Wrote output to 10-feet/SCSA_training_targets_SC-105_T1-10.html\n"
     ]
    },
    {
     "data": {
      "text/html": [
       "<table border=1><tr><th align=center>Accelerator (SC-105)</th></tr><tr><td align=center>T1</td></tr><tr><td align=center>diameter=3.3\"</td></tr><tr><td align=center><svg height=450.0 width=450.0><circle cx=225.0 cy=225.0 r=150.0 stroke=black stroke-width=3 fill=none /></svg></td></tr></table><p/>"
      ],
      "text/plain": [
       "<IPython.core.display.HTML object>"
      ]
     },
     "metadata": {},
     "output_type": "display_data"
    },
    {
     "name": "stdout",
     "output_type": "stream",
     "text": [
      "Wrote output to 10-feet/SCSA_training_targets_SC-105_T2-10.html\n"
     ]
    },
    {
     "data": {
      "text/html": [
       "<table border=1><tr><th align=center>Accelerator (SC-105)</th></tr><tr><td align=center>T2</td></tr><tr><td align=center>height=8.0\" width=6.0\"</td></tr><tr><td align=center><svg height=1080.0 width=810.0><rect x=135.0 y=180.0 width=540.0 height=720.0 stroke=black stroke-width=3 fill=none /></svg></td></tr>"
      ],
      "text/plain": [
       "<IPython.core.display.HTML object>"
      ]
     },
     "metadata": {},
     "output_type": "display_data"
    },
    {
     "name": "stdout",
     "output_type": "stream",
     "text": [
      "Wrote output to 10-feet/SCSA_training_targets_SC-105_T3-10.html\n"
     ]
    },
    {
     "data": {
      "text/html": [
       "<table border=1><tr><th align=center>Accelerator (SC-105)</th></tr><tr><td align=center>T3</td></tr><tr><td align=center>diameter=2.7\"</td></tr><tr><td align=center><svg height=360.0 width=360.0><circle cx=180.0 cy=180.0 r=120.0 stroke=black stroke-width=3 fill=none /></svg></td></tr></table><p/>"
      ],
      "text/plain": [
       "<IPython.core.display.HTML object>"
      ]
     },
     "metadata": {},
     "output_type": "display_data"
    },
    {
     "name": "stdout",
     "output_type": "stream",
     "text": [
      "Wrote output to 10-feet/SCSA_training_targets_SC-105_T4-10.html\n"
     ]
    },
    {
     "data": {
      "text/html": [
       "<table border=1><tr><th align=center>Accelerator (SC-105)</th></tr><tr><td align=center>T4</td></tr><tr><td align=center>diameter=2.0\"</td></tr><tr><td align=center><svg height=270.0 width=270.0><circle cx=135.0 cy=135.0 r=90.0 stroke=black stroke-width=3 fill=none /></svg></td></tr></table><p/>"
      ],
      "text/plain": [
       "<IPython.core.display.HTML object>"
      ]
     },
     "metadata": {},
     "output_type": "display_data"
    },
    {
     "name": "stdout",
     "output_type": "stream",
     "text": [
      "Wrote output to 10-feet/SCSA_training_targets_SC-105_T5-10.html\n"
     ]
    },
    {
     "data": {
      "text/html": [
       "<table border=1><tr><th align=center>Accelerator (SC-105)</th></tr><tr><td align=center>T5</td></tr><tr><td align=center>height=4.0\" width=3.0\"</td></tr><tr><td align=center><svg height=540.0 width=405.0><rect x=67.5 y=90.0 width=270.0 height=360.0 stroke=black stroke-width=3 fill=none /></svg></td></tr>"
      ],
      "text/plain": [
       "<IPython.core.display.HTML object>"
      ]
     },
     "metadata": {},
     "output_type": "display_data"
    },
    {
     "name": "stdout",
     "output_type": "stream",
     "text": [
      "Wrote output to 10-feet/SCSA_training_targets_SC-106_T1-10.html\n"
     ]
    },
    {
     "data": {
      "text/html": [
       "<table border=1><tr><th align=center>Pendulum (SC-106)</th></tr><tr><td align=center>T1</td></tr><tr><td align=center>diameter=2.2\"</td></tr><tr><td align=center><svg height=300.0 width=300.0><circle cx=150.0 cy=150.0 r=100.0 stroke=black stroke-width=3 fill=none /></svg></td></tr></table><p/>"
      ],
      "text/plain": [
       "<IPython.core.display.HTML object>"
      ]
     },
     "metadata": {},
     "output_type": "display_data"
    },
    {
     "name": "stdout",
     "output_type": "stream",
     "text": [
      "Wrote output to 10-feet/SCSA_training_targets_SC-106_T2-10.html\n"
     ]
    },
    {
     "data": {
      "text/html": [
       "<table border=1><tr><th align=center>Pendulum (SC-106)</th></tr><tr><td align=center>T2</td></tr><tr><td align=center>diameter=1.9\"</td></tr><tr><td align=center><svg height=250.00000000000003 width=250.00000000000003><circle cx=125.00000000000001 cy=125.00000000000001 r=83.33333333333334 stroke=black stroke-width=3 fill=none /></svg></td></tr></table><p/>"
      ],
      "text/plain": [
       "<IPython.core.display.HTML object>"
      ]
     },
     "metadata": {},
     "output_type": "display_data"
    },
    {
     "name": "stdout",
     "output_type": "stream",
     "text": [
      "Wrote output to 10-feet/SCSA_training_targets_SC-106_T3-10.html\n"
     ]
    },
    {
     "data": {
      "text/html": [
       "<table border=1><tr><th align=center>Pendulum (SC-106)</th></tr><tr><td align=center>T3</td></tr><tr><td align=center>diameter=4.0\"</td></tr><tr><td align=center><svg height=540.0 width=540.0><circle cx=270.0 cy=270.0 r=180.0 stroke=black stroke-width=3 fill=none /></svg></td></tr></table><p/>"
      ],
      "text/plain": [
       "<IPython.core.display.HTML object>"
      ]
     },
     "metadata": {},
     "output_type": "display_data"
    },
    {
     "name": "stdout",
     "output_type": "stream",
     "text": [
      "Wrote output to 10-feet/SCSA_training_targets_SC-106_T4-10.html\n"
     ]
    },
    {
     "data": {
      "text/html": [
       "<table border=1><tr><th align=center>Pendulum (SC-106)</th></tr><tr><td align=center>T4</td></tr><tr><td align=center>diameter=1.9\"</td></tr><tr><td align=center><svg height=250.00000000000003 width=250.00000000000003><circle cx=125.00000000000001 cy=125.00000000000001 r=83.33333333333334 stroke=black stroke-width=3 fill=none /></svg></td></tr></table><p/>"
      ],
      "text/plain": [
       "<IPython.core.display.HTML object>"
      ]
     },
     "metadata": {},
     "output_type": "display_data"
    },
    {
     "name": "stdout",
     "output_type": "stream",
     "text": [
      "Wrote output to 10-feet/SCSA_training_targets_SC-106_T5-10.html\n"
     ]
    },
    {
     "data": {
      "text/html": [
       "<table border=1><tr><th align=center>Pendulum (SC-106)</th></tr><tr><td align=center>T5</td></tr><tr><td align=center>diameter=2.2\"</td></tr><tr><td align=center><svg height=300.0 width=300.0><circle cx=150.0 cy=150.0 r=100.0 stroke=black stroke-width=3 fill=none /></svg></td></tr></table><p/>"
      ],
      "text/plain": [
       "<IPython.core.display.HTML object>"
      ]
     },
     "metadata": {},
     "output_type": "display_data"
    },
    {
     "name": "stdout",
     "output_type": "stream",
     "text": [
      "Wrote output to 10-feet/SCSA_training_targets_SC-107_T1-10.html\n"
     ]
    },
    {
     "data": {
      "text/html": [
       "<table border=1><tr><th align=center>Speed Option (SC-107)</th></tr><tr><td align=center>T1</td></tr><tr><td align=center>height=2.3\" width=1.7\"</td></tr><tr><td align=center><svg height=308.57142857142856 width=231.42857142857142><rect x=38.57142857142857 y=51.42857142857142 width=154.28571428571428 height=205.7142857142857 stroke=black stroke-width=3 fill=none /></svg></td></tr>"
      ],
      "text/plain": [
       "<IPython.core.display.HTML object>"
      ]
     },
     "metadata": {},
     "output_type": "display_data"
    },
    {
     "name": "stdout",
     "output_type": "stream",
     "text": [
      "Wrote output to 10-feet/SCSA_training_targets_SC-107_T2-10.html\n"
     ]
    },
    {
     "data": {
      "text/html": [
       "<table border=1><tr><th align=center>Speed Option (SC-107)</th></tr><tr><td align=center>T2</td></tr><tr><td align=center>diameter=4.0\"</td></tr><tr><td align=center><svg height=540.0 width=540.0><circle cx=270.0 cy=270.0 r=180.0 stroke=black stroke-width=3 fill=none /></svg></td></tr></table><p/>"
      ],
      "text/plain": [
       "<IPython.core.display.HTML object>"
      ]
     },
     "metadata": {},
     "output_type": "display_data"
    },
    {
     "name": "stdout",
     "output_type": "stream",
     "text": [
      "Wrote output to 10-feet/SCSA_training_targets_SC-107_T3-10.html\n"
     ]
    },
    {
     "data": {
      "text/html": [
       "<table border=1><tr><th align=center>Speed Option (SC-107)</th></tr><tr><td align=center>T3</td></tr><tr><td align=center>diameter=2.0\"</td></tr><tr><td align=center><svg height=270.0 width=270.0><circle cx=135.0 cy=135.0 r=90.0 stroke=black stroke-width=3 fill=none /></svg></td></tr></table><p/>"
      ],
      "text/plain": [
       "<IPython.core.display.HTML object>"
      ]
     },
     "metadata": {},
     "output_type": "display_data"
    },
    {
     "name": "stdout",
     "output_type": "stream",
     "text": [
      "Wrote output to 10-feet/SCSA_training_targets_SC-107_T4-10.html\n"
     ]
    },
    {
     "data": {
      "text/html": [
       "<table border=1><tr><th align=center>Speed Option (SC-107)</th></tr><tr><td align=center>T4</td></tr><tr><td align=center>diameter=5.0\"</td></tr><tr><td align=center><svg height=675.0 width=675.0><circle cx=337.5 cy=337.5 r=225.0 stroke=black stroke-width=3 fill=none /></svg></td></tr></table><p/>"
      ],
      "text/plain": [
       "<IPython.core.display.HTML object>"
      ]
     },
     "metadata": {},
     "output_type": "display_data"
    },
    {
     "name": "stdout",
     "output_type": "stream",
     "text": [
      "Wrote output to 10-feet/SCSA_training_targets_SC-107_T5-10.html\n"
     ]
    },
    {
     "data": {
      "text/html": [
       "<table border=1><tr><th align=center>Speed Option (SC-107)</th></tr><tr><td align=center>T5</td></tr><tr><td align=center>diameter=2.7\"</td></tr><tr><td align=center><svg height=360.0 width=360.0><circle cx=180.0 cy=180.0 r=120.0 stroke=black stroke-width=3 fill=none /></svg></td></tr></table><p/>"
      ],
      "text/plain": [
       "<IPython.core.display.HTML object>"
      ]
     },
     "metadata": {},
     "output_type": "display_data"
    },
    {
     "name": "stdout",
     "output_type": "stream",
     "text": [
      "Wrote output to 10-feet/SCSA_training_targets_SC-108_T1-10.html\n"
     ]
    },
    {
     "data": {
      "text/html": [
       "<table border=1><tr><th align=center>Roundabout (SC-108)</th></tr><tr><td align=center>T1</td></tr><tr><td align=center>diameter=2.7\"</td></tr><tr><td align=center><svg height=360.0 width=360.0><circle cx=180.0 cy=180.0 r=120.0 stroke=black stroke-width=3 fill=none /></svg></td></tr></table><p/>"
      ],
      "text/plain": [
       "<IPython.core.display.HTML object>"
      ]
     },
     "metadata": {},
     "output_type": "display_data"
    },
    {
     "name": "stdout",
     "output_type": "stream",
     "text": [
      "Wrote output to 10-feet/SCSA_training_targets_SC-108_T2-10.html\n"
     ]
    },
    {
     "data": {
      "text/html": [
       "<table border=1><tr><th align=center>Roundabout (SC-108)</th></tr><tr><td align=center>T2</td></tr><tr><td align=center>diameter=5.7\"</td></tr><tr><td align=center><svg height=771.4285714285712 width=771.4285714285712><circle cx=385.71428571428567 cy=385.7142857142856 r=257.1428571428571 stroke=black stroke-width=3 fill=none /></svg></td></tr></table><p/>"
      ],
      "text/plain": [
       "<IPython.core.display.HTML object>"
      ]
     },
     "metadata": {},
     "output_type": "display_data"
    },
    {
     "name": "stdout",
     "output_type": "stream",
     "text": [
      "Wrote output to 10-feet/SCSA_training_targets_SC-108_T3-10.html\n"
     ]
    },
    {
     "data": {
      "text/html": [
       "<table border=1><tr><th align=center>Roundabout (SC-108)</th></tr><tr><td align=center>T3</td></tr><tr><td align=center>diameter=4.0\"</td></tr><tr><td align=center><svg height=540.0 width=540.0><circle cx=270.0 cy=270.0 r=180.0 stroke=black stroke-width=3 fill=none /></svg></td></tr></table><p/>"
      ],
      "text/plain": [
       "<IPython.core.display.HTML object>"
      ]
     },
     "metadata": {},
     "output_type": "display_data"
    },
    {
     "name": "stdout",
     "output_type": "stream",
     "text": [
      "Wrote output to 10-feet/SCSA_training_targets_SC-108_T4-10.html\n"
     ]
    },
    {
     "data": {
      "text/html": [
       "<table border=1><tr><th align=center>Roundabout (SC-108)</th></tr><tr><td align=center>T4</td></tr><tr><td align=center>diameter=2.7\"</td></tr><tr><td align=center><svg height=360.0 width=360.0><circle cx=180.0 cy=180.0 r=120.0 stroke=black stroke-width=3 fill=none /></svg></td></tr></table><p/>"
      ],
      "text/plain": [
       "<IPython.core.display.HTML object>"
      ]
     },
     "metadata": {},
     "output_type": "display_data"
    },
    {
     "name": "stdout",
     "output_type": "stream",
     "text": [
      "Wrote output to 10-feet/SCSA_training_targets_SC-108_T5-10.html\n"
     ]
    },
    {
     "data": {
      "text/html": [
       "<table border=1><tr><th align=center>Roundabout (SC-108)</th></tr><tr><td align=center>T5</td></tr><tr><td align=center>diameter=5.7\"</td></tr><tr><td align=center><svg height=771.4285714285712 width=771.4285714285712><circle cx=385.71428571428567 cy=385.7142857142856 r=257.1428571428571 stroke=black stroke-width=3 fill=none /></svg></td></tr></table><p/>"
      ],
      "text/plain": [
       "<IPython.core.display.HTML object>"
      ]
     },
     "metadata": {},
     "output_type": "display_data"
    }
   ],
   "source": [
    "# Create SVG graphics of each target and write to individual files\n",
    "px = 90\n",
    "\n",
    "# for each stage...\n",
    "for stage in stages.keys():\n",
    "    \n",
    "    stage_id = stage[stage.find(\"(\")+1:stage.find(\")\")]\n",
    "    \n",
    "    # target\n",
    "    for target in stages[stage].keys():\n",
    "        html_outer = '<table border=1><tr><th align=center>{}</th></tr><tr><td align=center>{}</td></tr>'.format(stage, target)\n",
    "        svg_outer = '<tr><td align=center><svg height={} width={}>{}</svg></td></tr>'\n",
    "        svg_inner = ''\n",
    "\n",
    "        target_type = stages[stage][target]['target_type']\n",
    "        training_target_size = stages[stage][target]['training_target_size']\n",
    "        \n",
    "        # create SVG shape depending upon target type\n",
    "        if target_type.upper() == 'A':\n",
    "            x = training_target_size[2]\n",
    "            y = training_target_size[1]\n",
    "            html_outer += '<tr><td align=center>height={:.1f}\\\" width={:.1f}\\\"</td></tr>'.format(y, x)\n",
    "            svg_inner += '<rect x={} y={} width={} height={} stroke=black stroke-width=3 fill=none />'.format((x * px)/4, \n",
    "                                                                                                    (y * px)/4,\n",
    "                                                                                                    float(x * px),\n",
    "                                                                                                    float(y * px))\n",
    "            html_outer += svg_outer.format(1.5 * float(y) * px, 1.5 * float(x) * px, svg_inner)\n",
    "        else: \n",
    "            r = float(training_target_size[0]) / 2.0\n",
    "            html_outer += '<tr><td align=center>diameter={:.1f}\\\"</td></tr>'.format(r*2.0)\n",
    "            svg_inner += '<circle cx={} cy={} r={} stroke=black stroke-width=3 fill=none />'.format(1.5 * (float(r) * px),\n",
    "                                                                                          (1.5 * float(r) * px),\n",
    "                                                                                          (float(r) * px))\n",
    "            html_outer += svg_outer.format(3 * float(r) * px, 3 * float(r) * px, svg_inner) + '</table><p/>'\n",
    "            \n",
    "        # output += html_outer\n",
    "        \n",
    "        # write each target to a file\n",
    "        filename = '{}/SCSA_training_targets_{}_{}-{}.html'.format(output_dir, stage_id, target, training_distance)\n",
    "        f = open(filename, 'w')\n",
    "        f.write('<html>{}</html>'.format(html_outer))\n",
    "        f.close()\n",
    "\n",
    "        print('Wrote output to {}'.format(filename))\n",
    "        # Display results\n",
    "        display(HTML(html_outer));"
   ]
  },
  {
   "cell_type": "markdown",
   "metadata": {},
   "source": [
    "**The End.  I hope this is helpful.**"
   ]
  }
 ],
 "metadata": {
  "kernelspec": {
   "display_name": "Python 3",
   "language": "python",
   "name": "python3"
  },
  "language_info": {
   "codemirror_mode": {
    "name": "ipython",
    "version": 3
   },
   "file_extension": ".py",
   "mimetype": "text/x-python",
   "name": "python",
   "nbconvert_exporter": "python",
   "pygments_lexer": "ipython3",
   "version": "3.7.3"
  }
 },
 "nbformat": 4,
 "nbformat_minor": 2
}
