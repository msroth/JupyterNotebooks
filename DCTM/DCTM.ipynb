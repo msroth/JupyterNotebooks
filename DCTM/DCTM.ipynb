{
 "cells": [
  {
   "cell_type": "markdown",
   "metadata": {},
   "source": [
    "# Querying Documentum from a Jupyter Notebook\n",
    "_(c) 2019 MSRoth_\n",
    "\n",
    "This notebook demostrates how to interface with the Documentum Content Server from a Jupyter Notebook using a Java kernel and the DFC.  Enter any valid query below and see the results rendered inline.\n",
    "\n",
    "This notebook utilizes the iJava Kernel (https://github.com/SpencerPark/IJava), the Documentum Foundation Classes (DFC), and two helper classes:  DCTMBasics (https://github.com/msroth/dmBasics), and dmRecordSet (https://github.com/msroth/dmRecordSet).\n",
    "\n"
   ]
  },
  {
   "cell_type": "markdown",
   "metadata": {},
   "source": [
    "_Use some Jupyter magic to set classpath.  Specifically, add the location of the dfc.properties file, the dctm.jar file, and the two helper classes to the classpath.  Adjust these paths as required for your environment._"
   ]
  },
  {
   "cell_type": "code",
   "execution_count": 1,
   "metadata": {},
   "outputs": [],
   "source": [
    "%classpath \"C:/Documentum/config\"\n",
    "%classpath \"C:/Program Files/Documentum/dctm.jar\"\n",
    "%classpath \"C:/users/rothmi/Documents/JupyterNotebooks/DCTM/*.jar\"\n",
    "\n",
    "import com.dm_misc.dctm.DCTMBasics;\n",
    "import com.dm_misc.collections.dmRecordSet;\n",
    "import com.documentum.fc.client.*;\n",
    "import com.documentum.fc.common.*;"
   ]
  },
  {
   "cell_type": "code",
   "execution_count": 2,
   "metadata": {},
   "outputs": [
    {
     "name": "stdout",
     "output_type": "stream",
     "text": [
      "Logging on...Session Id: s0\n"
     ]
    }
   ],
   "source": [
    "// Enter username, password, and docbase values below.\n",
    "String user = \"dmadmin\";\n",
    "String password = \"dmadmin\";\n",
    "String docbase = \"repo1\";\n",
    "\n",
    "// It takes a few seconds to logon... wait for session Id before continuing\n",
    "System.out.print(\"Logging on...\");\n",
    "IDfSession session = DCTMBasics.logon(docbase, user, password);\n",
    "if (session != null) { \n",
    "    System.out.println(\"Session Id: \" + session.getSessionId());\n",
    "} else {\n",
    "    System.out.println(\"Could not logon\");\n",
    "}"
   ]
  },
  {
   "cell_type": "code",
   "execution_count": 3,
   "metadata": {},
   "outputs": [],
   "source": [
    "// Enter a valid query string\n",
    "String dql = \"select * from dm_sysobject where folder('/Temp')\";"
   ]
  },
  {
   "cell_type": "code",
   "execution_count": 4,
   "metadata": {},
   "outputs": [
    {
     "name": "stdout",
     "output_type": "stream",
     "text": [
      "Running query...\n",
      "Found 13 objects.\n"
     ]
    },
    {
     "data": {
      "text/html": [
       "<table><tr><th>r_object_id</th><th>object_name</th><th>title</th><th>subject</th><th>resolution_label</th><th>owner_name</th><th>owner_permit</th><th>group_name</th><th>group_permit</th><th>world_permit</th><th>log_entry</th><th>acl_domain</th><th>acl_name</th><th>language_code</th><th>r_object_type</th><th>r_creation_date</th><th>r_modify_date</th><th>a_content_type</th></tr><tr><td>0901e4538005895c</td><td>sample_news_story.docx</td><td></td><td></td><td></td><td>dmadmin</td><td>7</td><td>admingroup</td><td>1</td><td>6</td><td></td><td>dmadmin</td><td>dm_4501e45380014106</td><td></td><td>dm_document</td><td>13.09.2019 13:44:23</td><td>13.09.2019 14:28:07</td><td>msw12</td></tr><tr><td>0901e4538005895d</td><td>sample_news_story.pdf</td><td></td><td></td><td></td><td>dmadmin</td><td>7</td><td>admingroup</td><td>1</td><td>6</td><td></td><td>dmadmin</td><td>dm_4501e45380014107</td><td></td><td>dm_document</td><td>13.09.2019 13:44:23</td><td>13.09.2019 14:28:07</td><td>pdf</td></tr><tr><td>0901e4538005895e</td><td>test.html</td><td></td><td></td><td></td><td>dmadmin</td><td>7</td><td>admingroup</td><td>1</td><td>6</td><td></td><td>dmadmin</td><td>dm_4501e45380014108</td><td></td><td>dm_document</td><td>13.09.2019 13:44:24</td><td>13.09.2019 14:28:08</td><td>html</td></tr><tr><td>0901e4538005895f</td><td>HelloWorld.rtf</td><td></td><td></td><td></td><td>dmadmin</td><td>7</td><td>admingroup</td><td>1</td><td>6</td><td></td><td>dmadmin</td><td>dm_4501e45380014109</td><td></td><td>dm_document</td><td>13.09.2019 13:44:24</td><td>13.09.2019 14:28:07</td><td>rtf</td></tr><tr><td>0901e45380059540</td><td>Scott doc</td><td></td><td></td><td></td><td>dmadmin</td><td>7</td><td>admingroup</td><td>1</td><td>6</td><td></td><td>repo1</td><td>dm_4501e45380000103</td><td></td><td>sr_document</td><td>18.09.2019 13:16:21</td><td>18.09.2019 13:16:52</td><td>pdf</td></tr><tr><td>0b01e45380000cee</td><td>Jobs</td><td></td><td></td><td></td><td>dmadmin</td><td>7</td><td>docu</td><td>5</td><td>3</td><td></td><td>dmadmin</td><td>dm_4501e45380000101</td><td></td><td>dm_folder</td><td>06.05.2013 11:35:41</td><td>06.05.2013 11:35:41</td><td></td></tr><tr><td>0b01e4538000450d</td><td>SIDocs</td><td></td><td></td><td></td><td>dmadmin</td><td>7</td><td>docu</td><td>5</td><td>3</td><td></td><td>dmadmin</td><td>dm_4501e45380000101</td><td></td><td>dm_folder</td><td>03.07.2013 16:01:13</td><td>05.07.2013 16:15:53</td><td></td></tr><tr><td>0b01e45380057e93</td><td>Import</td><td></td><td></td><td></td><td>dmadmin</td><td>7</td><td>admingroup</td><td>1</td><td>6</td><td></td><td>repo1</td><td>dm_4501e45380000103</td><td></td><td>dm_folder</td><td>10.09.2019 12:38:24</td><td>10.09.2019 12:38:24</td><td></td></tr><tr><td>0b01e45380058500</td><td>BPM</td><td>BPM Folder</td><td>Folder containing bpm-related objects.</td><td></td><td>repo1</td><td>7</td><td>docu</td><td>5</td><td>6</td><td></td><td>repo1</td><td>dm_4501e45380013d00</td><td></td><td>dm_folder</td><td>12.09.2019 07:50:01</td><td>12.09.2019 07:50:02</td><td></td></tr><tr><td>0b01e45380058514</td><td>Export2</td><td></td><td></td><td></td><td>dmadmin</td><td>7</td><td>admingroup</td><td>1</td><td>6</td><td></td><td>repo1</td><td>dm_4501e45380000103</td><td></td><td>dm_folder</td><td>12.09.2019 11:56:42</td><td>12.09.2019 11:56:43</td><td></td></tr><tr><td>0b01e4538005894b</td><td>Import2</td><td></td><td></td><td></td><td>dmadmin</td><td>7</td><td>admingroup</td><td>1</td><td>6</td><td></td><td>repo1</td><td>dm_4501e45380000103</td><td></td><td>dm_folder</td><td>13.09.2019 13:44:22</td><td>13.09.2019 13:44:22</td><td></td></tr><tr><td>0b01e4538005898e</td><td>Export3</td><td></td><td></td><td></td><td>dmadmin</td><td>7</td><td>admingroup</td><td>1</td><td>6</td><td></td><td>repo1</td><td>dm_4501e45380000103</td><td></td><td>dm_folder</td><td>13.09.2019 14:34:01</td><td>13.09.2019 14:34:04</td><td></td></tr><tr><td>0b01e453800589ae</td><td>Import3</td><td></td><td></td><td></td><td>dmadmin</td><td>7</td><td>admingroup</td><td>1</td><td>6</td><td></td><td>repo1</td><td>dm_4501e45380000103</td><td></td><td>dm_folder</td><td>13.09.2019 14:41:58</td><td>13.09.2019 14:41:58</td><td></td></tr></table>"
      ],
      "text/plain": [
       "<table><tr><th>r_object_id</th><th>object_name</th><th>title</th><th>subject</th><th>resolution_label</th><th>owner_name</th><th>owner_permit</th><th>group_name</th><th>group_permit</th><th>world_permit</th><th>log_entry</th><th>acl_domain</th><th>acl_name</th><th>language_code</th><th>r_object_type</th><th>r_creation_date</th><th>r_modify_date</th><th>a_content_type</th></tr><tr><td>0901e4538005895c</td><td>sample_news_story.docx</td><td></td><td></td><td></td><td>dmadmin</td><td>7</td><td>admingroup</td><td>1</td><td>6</td><td></td><td>dmadmin</td><td>dm_4501e45380014106</td><td></td><td>dm_document</td><td>13.09.2019 13:44:23</td><td>13.09.2019 14:28:07</td><td>msw12</td></tr><tr><td>0901e4538005895d</td><td>sample_news_story.pdf</td><td></td><td></td><td></td><td>dmadmin</td><td>7</td><td>admingroup</td><td>1</td><td>6</td><td></td><td>dmadmin</td><td>dm_4501e45380014107</td><td></td><td>dm_document</td><td>13.09.2019 13:44:23</td><td>13.09.2019 14:28:07</td><td>pdf</td></tr><tr><td>0901e4538005895e</td><td>test.html</td><td></td><td></td><td></td><td>dmadmin</td><td>7</td><td>admingroup</td><td>1</td><td>6</td><td></td><td>dmadmin</td><td>dm_4501e45380014108</td><td></td><td>dm_document</td><td>13.09.2019 13:44:24</td><td>13.09.2019 14:28:08</td><td>html</td></tr><tr><td>0901e4538005895f</td><td>HelloWorld.rtf</td><td></td><td></td><td></td><td>dmadmin</td><td>7</td><td>admingroup</td><td>1</td><td>6</td><td></td><td>dmadmin</td><td>dm_4501e45380014109</td><td></td><td>dm_document</td><td>13.09.2019 13:44:24</td><td>13.09.2019 14:28:07</td><td>rtf</td></tr><tr><td>0901e45380059540</td><td>Scott doc</td><td></td><td></td><td></td><td>dmadmin</td><td>7</td><td>admingroup</td><td>1</td><td>6</td><td></td><td>repo1</td><td>dm_4501e45380000103</td><td></td><td>sr_document</td><td>18.09.2019 13:16:21</td><td>18.09.2019 13:16:52</td><td>pdf</td></tr><tr><td>0b01e45380000cee</td><td>Jobs</td><td></td><td></td><td></td><td>dmadmin</td><td>7</td><td>docu</td><td>5</td><td>3</td><td></td><td>dmadmin</td><td>dm_4501e45380000101</td><td></td><td>dm_folder</td><td>06.05.2013 11:35:41</td><td>06.05.2013 11:35:41</td><td></td></tr><tr><td>0b01e4538000450d</td><td>SIDocs</td><td></td><td></td><td></td><td>dmadmin</td><td>7</td><td>docu</td><td>5</td><td>3</td><td></td><td>dmadmin</td><td>dm_4501e45380000101</td><td></td><td>dm_folder</td><td>03.07.2013 16:01:13</td><td>05.07.2013 16:15:53</td><td></td></tr><tr><td>0b01e45380057e93</td><td>Import</td><td></td><td></td><td></td><td>dmadmin</td><td>7</td><td>admingroup</td><td>1</td><td>6</td><td></td><td>repo1</td><td>dm_4501e45380000103</td><td></td><td>dm_folder</td><td>10.09.2019 12:38:24</td><td>10.09.2019 12:38:24</td><td></td></tr><tr><td>0b01e45380058500</td><td>BPM</td><td>BPM Folder</td><td>Folder containing bpm-related objects.</td><td></td><td>repo1</td><td>7</td><td>docu</td><td>5</td><td>6</td><td></td><td>repo1</td><td>dm_4501e45380013d00</td><td></td><td>dm_folder</td><td>12.09.2019 07:50:01</td><td>12.09.2019 07:50:02</td><td></td></tr><tr><td>0b01e45380058514</td><td>Export2</td><td></td><td></td><td></td><td>dmadmin</td><td>7</td><td>admingroup</td><td>1</td><td>6</td><td></td><td>repo1</td><td>dm_4501e45380000103</td><td></td><td>dm_folder</td><td>12.09.2019 11:56:42</td><td>12.09.2019 11:56:43</td><td></td></tr><tr><td>0b01e4538005894b</td><td>Import2</td><td></td><td></td><td></td><td>dmadmin</td><td>7</td><td>admingroup</td><td>1</td><td>6</td><td></td><td>repo1</td><td>dm_4501e45380000103</td><td></td><td>dm_folder</td><td>13.09.2019 13:44:22</td><td>13.09.2019 13:44:22</td><td></td></tr><tr><td>0b01e4538005898e</td><td>Export3</td><td></td><td></td><td></td><td>dmadmin</td><td>7</td><td>admingroup</td><td>1</td><td>6</td><td></td><td>repo1</td><td>dm_4501e45380000103</td><td></td><td>dm_folder</td><td>13.09.2019 14:34:01</td><td>13.09.2019 14:34:04</td><td></td></tr><tr><td>0b01e453800589ae</td><td>Import3</td><td></td><td></td><td></td><td>dmadmin</td><td>7</td><td>admingroup</td><td>1</td><td>6</td><td></td><td>repo1</td><td>dm_4501e45380000103</td><td></td><td>dm_folder</td><td>13.09.2019 14:41:58</td><td>13.09.2019 14:41:58</td><td></td></tr></table>"
      ]
     },
     "metadata": {},
     "output_type": "display_data"
    }
   ],
   "source": [
    "// Run the query\n",
    "System.out.println(\"Running query...\");\n",
    "\n",
    "IDfCollection col = DCTMBasics.runSelectQuery(dql, session);\n",
    "dmRecordSet dmRS = new dmRecordSet(col);\n",
    "col.close();\n",
    "\n",
    "if (dmRS.isEmpty()) {\n",
    "    System.out.println(\"Query returned 0 objects.\");\n",
    "} else {\n",
    "    System.out.println(\"Found \" + dmRS.getRowCount() + \" objects.\");\n",
    "}\n",
    "\n",
    "// Render the results\n",
    "if (!dmRS.isEmpty()) {\n",
    "\n",
    "    // build a single output string with all results\n",
    "    String output = \"<table><tr>\";\n",
    "    \n",
    "    // get all column names in the record set\n",
    "    ArrayList<IDfAttr> cols = dmRS.getColumnDefs();\n",
    "\n",
    "    // print col names as headers\n",
    "    for (IDfAttr a : cols) {\n",
    "        output += \"<th>\" + a.getName() + \"</th>\";\n",
    "    }\n",
    "    output += \"</tr>\";\n",
    "\n",
    "    // print record set content under each column heading\n",
    "    while (dmRS.hasNext()) {\n",
    "        output += \"<tr>\";\n",
    "        IDfTypedObject tObj = dmRS.getNextRow();\n",
    "        for (IDfAttr a : cols) {\n",
    "            output += \"<td>\" + tObj.getString(a.getName()) + \"</td>\";\n",
    "        }\n",
    "        output += \"</tr>\";\n",
    "    }\n",
    "    output += \"</table>\";\n",
    "    \n",
    "    // render the results as an inline HTML table\n",
    "    display(output, \"text/html\");\n",
    "}"
   ]
  },
  {
   "cell_type": "markdown",
   "metadata": {},
   "source": [
    "_You can run multiple queries by changing the __dql__ variable and rerunning the cell above.  When you are finished, run the cell below to log off of the Documentum server._"
   ]
  },
  {
   "cell_type": "code",
   "execution_count": 5,
   "metadata": {},
   "outputs": [
    {
     "name": "stdout",
     "output_type": "stream",
     "text": [
      "Logged off\n"
     ]
    }
   ],
   "source": [
    "// close session (logout)\n",
    "if (session != null) {\n",
    "    DCTMBasics.logoff(session);\n",
    "    session = null;\n",
    "}\n",
    "System.out.println(\"Logged off\");"
   ]
  },
  {
   "cell_type": "code",
   "execution_count": null,
   "metadata": {},
   "outputs": [],
   "source": []
  }
 ],
 "metadata": {
  "kernelspec": {
   "display_name": "Java",
   "language": "java",
   "name": "java"
  },
  "language_info": {
   "codemirror_mode": "java",
   "file_extension": ".jshell",
   "mimetype": "text/x-java-source",
   "name": "Java",
   "pygments_lexer": "java",
   "version": "11.0.4+10-LTS"
  }
 },
 "nbformat": 4,
 "nbformat_minor": 2
}
