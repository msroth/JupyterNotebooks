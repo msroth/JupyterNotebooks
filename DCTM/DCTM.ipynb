{
 "cells": [
  {
   "cell_type": "markdown",
   "metadata": {},
   "source": [
    "#Querying Documentum from a Jupyter Notebook\n",
    "_(c) 2019 MSRoth_\n",
    "\n",
    "This notebook demostrates how to interface with the Documentum Content Server from a Jupyter Notebook using a Java kernel and the DFC.  Enter any valid query below and see the results rendered inline.\n",
    "\n",
    "This notebook utilizes the iJava Kernel (https://github.com/SpencerPark/IJava), the Documentum Foundation Classes (DFC), and two helper classes:  DCTMBasics (https://github.com/msroth/dmBasics), and dmRecordSet (https://github.com/msroth/dmRecordSet).\n",
    "\n"
   ]
  },
  {
   "cell_type": "markdown",
   "metadata": {},
   "source": [
    "_Use some Jupyter magic to set classpath.  Specifically, add the location of the dfc.properties file, the dctm.jar file, and the two helper classes to the classpath.  Adjust these paths as required for your environment._"
   ]
  },
  {
   "cell_type": "code",
   "execution_count": null,
   "metadata": {},
   "outputs": [],
   "source": [
    "%classpath \"C:/Documentum/config\"\n",
    "%classpath \"C:/Program Files/Documentum/dctm.jar\"\n",
    "%classpath \"C:/Documents/Jupyter Notebooks/DCTM/*.jar\"\n",
    "\n",
    "import com.dm_misc.dctm.DCTMBasics;\n",
    "import com.dm_misc.collections.dmRecordSet;\n",
    "import com.documentum.fc.client.*;\n",
    "import com.documentum.fc.common.*;"
   ]
  },
  {
   "cell_type": "code",
   "execution_count": null,
   "metadata": {},
   "outputs": [],
   "source": [
    "// Enter username, password, and docbase values below.\n",
    "String user = \"dmadmin\";\n",
    "String password = \"dmadmin\";\n",
    "String docbase = \"repo1\";\n",
    "\n",
    "// It takes a few seconds to logon... wait for session Id before continuing\n",
    "System.out.print(\"Logging on...\");\n",
    "IDfSession session = DCTMBasics.logon(docbase, user, password);\n",
    "if (session != null) { \n",
    "    System.out.println(\"Session Id: \" + session.getSessionId());\n",
    "} else {\n",
    "    System.out.println(\"Could not logon\");\n",
    "}"
   ]
  },
  {
   "cell_type": "code",
   "execution_count": null,
   "metadata": {},
   "outputs": [],
   "source": [
    "// Enter a valid query string\n",
    "String dql = \"select * from dm_sysobject where folder('/Temp')\";"
   ]
  },
  {
   "cell_type": "code",
   "execution_count": null,
   "metadata": {},
   "outputs": [],
   "source": [
    "// Run the query\n",
    "IDfCollection col = DCTMBasics.runSelectQuery(dql, session);\n",
    "dmRecordSet dmRS = new dmRecordSet(col);\n",
    "col.close();\n",
    "\n",
    "if (dmRS.isEmpty()) {\n",
    "    System.out.println(\"Query returned 0 objects.\");\n",
    "} else {\n",
    "    System.out.println(\"Found \" + dmRS.getRowCount() + \" objects.\");\n",
    "}\n",
    "\n",
    "// Render the results\n",
    "if (!dmRS.isEmpty()) {\n",
    "\n",
    "    // build a single output string with all results\n",
    "    String output = \"<table><tr>\";\n",
    "    \n",
    "    // get all column names in the record set\n",
    "    ArrayList<IDfAttr> cols = dmRS.getColumnDefs();\n",
    "\n",
    "    // print col names as headers\n",
    "    for (IDfAttr a : cols) {\n",
    "        output += \"<th>\" + a.getName() + \"</th>\";\n",
    "    }\n",
    "    output += \"</tr>\";\n",
    "\n",
    "    // print record set content under each column heading\n",
    "    while (dmRS.hasNext()) {\n",
    "        output += \"<tr>\";\n",
    "        IDfTypedObject tObj = dmRS.getNextRow();\n",
    "        for (IDfAttr a : cols) {\n",
    "            output += \"<td>\" + tObj.getString(a.getName()) + \"</td>\";\n",
    "        }\n",
    "        output += \"</tr>\";\n",
    "    }\n",
    "    output += \"</table>\";\n",
    "    \n",
    "    // render the results as an inline HTML table\n",
    "    display(output, \"text/html\");\n",
    "}"
   ]
  },
  {
   "cell_type": "markdown",
   "metadata": {},
   "source": [
    "_You can run multiple queries by changing the __dql__ variable and rerunning the cell above.  When you are finished, run the cell below to log off of the Documentum server._"
   ]
  },
  {
   "cell_type": "code",
   "execution_count": null,
   "metadata": {},
   "outputs": [],
   "source": [
    "// close session (logout)\n",
    "if (session != null) {\n",
    "    DCTMBasics.logoff(session);\n",
    "    session = null;\n",
    "}\n",
    "System.out.println(\"Logged off\");"
   ]
  },
  {
   "cell_type": "code",
   "execution_count": null,
   "metadata": {},
   "outputs": [],
   "source": []
  }
 ],
 "metadata": {
  "kernelspec": {
   "display_name": "Java",
   "language": "java",
   "name": "java"
  },
  "language_info": {
   "codemirror_mode": "java",
   "file_extension": ".jshell",
   "mimetype": "text/x-java-source",
   "name": "Java",
   "pygments_lexer": "java",
   "version": "11.0.4+10-LTS"
  }
 },
 "nbformat": 4,
 "nbformat_minor": 2
}
